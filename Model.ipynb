{
 "cells": [
  {
   "cell_type": "markdown",
   "id": "0f7acac6",
   "metadata": {},
   "source": [
    "# Fraudulent Jobs  Detection System "
   ]
  },
  {
   "cell_type": "code",
   "execution_count": null,
   "id": "0da586a8",
   "metadata": {},
   "outputs": [],
   "source": [
    "# loading the training dataset\n",
    "import pandas as pd\n",
    "import numpy as np\n",
    "\n",
    "train_df = pd.read_csv(\"train_dataset.csv\")   # 14304 rows × 18 columns\n",
    "train_df.isnull().describe() # we got department and salary_range having most of the null val so dropped also job_id as meaningless\n",
    "\n",
    "train_df.drop(['job_id','department','salary_range'],axis = 1, inplace = True)\n",
    "\n",
    "# handling Null values in text columns with space\n",
    "\n",
    "col = ['title','location','company_profile','description','requirements','benefits']\n",
    "train_df[col] = train_df[col].fillna(\" \")\n",
    "\n",
    "# train_df.isnull().describe()\n",
    "\n",
    "train_df = train_df.fillna(\"unknown\",axis = 1)\n",
    "train_df['fraudulent'] = train_df['fraudulent'].astype(int)\n",
    "\n",
    "# train_df.drop(\"text\",axis = 1, inplace = )\n",
    "# Now the data is clean and having 0 null values\n"
   ]
  },
  {
   "cell_type": "code",
   "execution_count": null,
   "id": "22956196",
   "metadata": {},
   "outputs": [],
   "source": [
    "# merging all text in text column\n",
    "train_df[\"text\"] = (\n",
    "    train_df[\"title\"].fillna('') + \" \" +\n",
    "    train_df[\"location\"].fillna('') + \" \" +\n",
    "    train_df[\"company_profile\"].fillna('') + \" \" +\n",
    "    train_df[\"description\"].fillna('') + \" \" +\n",
    "    train_df[\"requirements\"].fillna('') + \" \" +\n",
    "    train_df[\"benefits\"].fillna('')\n",
    ")\n",
    "# train_df['text'].nunique()  to check uniqueness of text   &  train_df['text'].iloc[0]\n"
   ]
  },
  {
   "cell_type": "code",
   "execution_count": null,
   "id": "710be808",
   "metadata": {},
   "outputs": [],
   "source": [
    "# using TF_IDF vectorize for text to numbers\n",
    "from sklearn.feature_extraction.text import TfidfVectorizer\n",
    "\n",
    "vectorizer = TfidfVectorizer(stop_words='english', max_features=10000)\n",
    "X = vectorizer.fit_transform(train_df['text'])\n",
    "# print(\"TF-IDF matrix shape:\", X.shape)\n"
   ]
  },
  {
   "cell_type": "code",
   "execution_count": null,
   "id": "1dbe7c95",
   "metadata": {},
   "outputs": [],
   "source": [
    "# splitting data into test and train and training the model\n",
    "from sklearn.model_selection import train_test_split\n",
    "from sklearn.linear_model import LogisticRegression\n",
    "from sklearn.metrics import classification_report, f1_score\n",
    "\n",
    "# target variable\n",
    "y = train_df['fraudulent']  \n",
    "\n",
    "# train-test split\n",
    "X_train, X_test, y_train, y_test = train_test_split(\n",
    "    X, y, test_size=0.2, stratify=y, random_state=42\n",
    ")\n",
    "\n",
    "# train the model\n",
    "model = LogisticRegression(max_iter=1000)\n",
    "model.fit(X_train, y_train)\n",
    "\n",
    "# evaluation\n",
    "y_pred = model.predict(X_test)\n",
    "print(\"F1 Score:\", f1_score(y_test, y_pred))\n",
    "print(classification_report(y_test, y_pred))\n"
   ]
  },
  {
   "cell_type": "code",
   "execution_count": null,
   "id": "c9d71b7d",
   "metadata": {},
   "outputs": [],
   "source": [
    "# fitting the model\n",
    "from sklearn.linear_model import LogisticRegression\n",
    "\n",
    "model = LogisticRegression(class_weight='balanced', max_iter=1000)\n",
    "model.fit(X_train, y_train)\n"
   ]
  },
  {
   "cell_type": "code",
   "execution_count": null,
   "id": "6e7e591c",
   "metadata": {},
   "outputs": [],
   "source": [
    "# saving the model\n",
    "import joblib\n",
    "joblib.dump(model, 'fraud_job_model.pkl')\n",
    "joblib.dump(vectorizer, 'tfidf_vectorizer.pkl')"
   ]
  },
  {
   "cell_type": "code",
   "execution_count": null,
   "id": "25936559",
   "metadata": {},
   "outputs": [],
   "source": []
  },
  {
   "cell_type": "code",
   "execution_count": null,
   "id": "70d74560",
   "metadata": {},
   "outputs": [],
   "source": []
  }
 ],
 "metadata": {
  "kernelspec": {
   "display_name": "Virtuality",
   "language": "python",
   "name": "python3"
  },
  "language_info": {
   "codemirror_mode": {
    "name": "ipython",
    "version": 3
   },
   "file_extension": ".py",
   "mimetype": "text/x-python",
   "name": "python",
   "nbconvert_exporter": "python",
   "pygments_lexer": "ipython3",
   "version": "3.13.1"
  }
 },
 "nbformat": 4,
 "nbformat_minor": 5
}
